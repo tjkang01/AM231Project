{
 "cells": [
  {
   "cell_type": "markdown",
   "metadata": {},
   "source": [
    "# Code for character-level text generation\n",
    "Timothy Kang and Catherine Li, May 2018"
   ]
  },
  {
   "cell_type": "code",
   "execution_count": 32,
   "metadata": {},
   "outputs": [],
   "source": [
    "import os\n",
    "import sys\n",
    "os.environ['KERAS_BACKEND'] = 'tensorflow'\n",
    "\n",
    "import numpy as np\n",
    "import keras.models\n",
    "from keras.models import Sequential\n",
    "from keras.layers import Dense, Dropout, LSTM, Lambda\n",
    "from keras.callbacks import ModelCheckpoint\n",
    "from keras.utils import np_utils\n",
    "import matplotlib.pyplot as plt\n",
    "%matplotlib inline"
   ]
  },
  {
   "cell_type": "code",
   "execution_count": 5,
   "metadata": {},
   "outputs": [],
   "source": [
    "# Load in STAT 110 for now; convert to lower case\n",
    "filename = \"cleaned_data/STAT/STAT 110.txt\"\n",
    "raw_text = open(filename).read()\n",
    "raw_text = raw_text.lower()"
   ]
  },
  {
   "cell_type": "markdown",
   "metadata": {},
   "source": [
    "## Simple character-level maximum likelihood language model"
   ]
  },
  {
   "cell_type": "code",
   "execution_count": 6,
   "metadata": {},
   "outputs": [
    {
     "name": "stdout",
     "output_type": "stream",
     "text": [
      "make sure to actually make you happy you did!\n",
      "worth the stress.\n",
      "take this course was truly amazing.  teaches you how to be a more rigorous, and -- for those reasons -- incredibly well taught but often times he goes way too fast and cover lots of great course! really teaches you how to think. however, it was still quite difficult.\n",
      "stat 110 is a necessary for any real statistics through a lot of work but it is definitely take this class a freshman, and at times you will love every minute of it.\n",
      "stat 110 is a trap. the first half of the exam mean hovers around a good thing to learn, i guess you should take the class is very helpful, and luckily the tfs are amazing and spend 5+ hours on the psets take on average 10 hours a week depending on your preparation as might be better. if you have a reasonable and just start watching the video). it makes the end/the understanding. has excellent support system is very lacking. the lecture notes. there are lots of help is available to help you throug\n"
     ]
    }
   ],
   "source": [
    "# Try a (not-so-)cute baseline; ML language model is pretty good, but bad grammar?\n",
    "# Code adapted from http://nbviewer.jupyter.org/gist/yoavg/d76121dfde2618422139\n",
    "\n",
    "from collections import *\n",
    "from random import random\n",
    "\n",
    "def train_char_lm(data, order = 4):    \n",
    "    # Initialize dictionary to hold sequences and their probable next letters\n",
    "    lm = defaultdict(Counter)\n",
    "    # Pad the data to start\n",
    "    pad = \"~\" * order\n",
    "    data = pad + data\n",
    "    \n",
    "    # Loop over every sequence in the corpus, tracking the letters that tend to appear after each sequence\n",
    "    for i in range(len(data)-order):\n",
    "        history, char = data[i:i+order], data[i+order]\n",
    "        lm[history][char]+=1\n",
    "    # Normalize the counts into probabilities\n",
    "    def normalize(counter):\n",
    "        s = float(sum(counter.values()))\n",
    "        return [(c, cnt/s) for c, cnt in counter.items()]\n",
    "    outlm = {hist:normalize(chars) for hist, chars in lm.items()}\n",
    "    return outlm\n",
    "\n",
    "def generate_letter(lm, history, order):\n",
    "    # Get previous sequence for which we'll predict the next char\n",
    "    history = history[-order:] \n",
    "    # Get distribution of probable chars to follow\n",
    "    dist = lm[history]\n",
    "    # Roll the dice to generate next char with the probability given in the dist\n",
    "    x = random()\n",
    "    for c, v in dist:\n",
    "        x = x - v\n",
    "        if x <= 0: return c\n",
    "\n",
    "def generate_text(lm, order, nletters=1000):\n",
    "    # Initialize with padding tildes\n",
    "    history = \"~\" * order\n",
    "    out = []\n",
    "    # Generate letters\n",
    "    for i in range(nletters):\n",
    "        c = generate_letter(lm, history, order)\n",
    "        history = history[-order:] + c\n",
    "        out.append(c)\n",
    "    return \"\".join(out)\n",
    "\n",
    "lm = train_char_lm(raw_text, order = 10)\n",
    "print(generate_text(lm, 10))\n"
   ]
  },
  {
   "cell_type": "markdown",
   "metadata": {},
   "source": [
    "## Long short-term memory recurrent neural networks!"
   ]
  },
  {
   "cell_type": "markdown",
   "metadata": {},
   "source": [
    "### Data processing"
   ]
  },
  {
   "cell_type": "code",
   "execution_count": 7,
   "metadata": {},
   "outputs": [],
   "source": [
    "# Code from https://machinelearningmastery.com/text-generation-lstm-recurrent-neural-networks-python-keras/"
   ]
  },
  {
   "cell_type": "code",
   "execution_count": 8,
   "metadata": {},
   "outputs": [
    {
     "name": "stdout",
     "output_type": "stream",
     "text": [
      "Total Characters:  349982\n",
      "Total Vocab:  66\n",
      "Total Patterns:  349882\n"
     ]
    }
   ],
   "source": [
    "# Map unique chars to integers\n",
    "chars = sorted(list(set(raw_text)))\n",
    "char_to_int = dict((c, i) for i, c in enumerate(chars))\n",
    "int_to_char = dict((i, c) for i, c in enumerate(chars))\n",
    "\n",
    "n_chars = len(raw_text)\n",
    "n_vocab = len(chars)\n",
    "print(\"Total Characters: \", n_chars)\n",
    "print(\"Total Vocab: \", n_vocab)\n",
    "\n",
    "# Prepare the dataset of input to output pairs encoded as integers\n",
    "seq_length = 100\n",
    "dataX = []\n",
    "dataY = []\n",
    "for i in range(0, n_chars - seq_length, 1):\n",
    "    seq_in = raw_text[i:i + seq_length]\n",
    "    seq_out = raw_text[i + seq_length]\n",
    "    dataX.append([char_to_int[char] for char in seq_in])\n",
    "    dataY.append(char_to_int[seq_out])\n",
    "n_patterns = len(dataX)\n",
    "print(\"Total Patterns: \", n_patterns)\n",
    "\n",
    "# Reshape X to be [samples, time steps, features]\n",
    "X = np.reshape(dataX, (n_patterns, seq_length, 1))\n",
    "# Normalize\n",
    "X = X / float(n_vocab)\n",
    "# One hot encode the output variable\n",
    "y = np_utils.to_categorical(dataY)"
   ]
  },
  {
   "cell_type": "code",
   "execution_count": 9,
   "metadata": {},
   "outputs": [],
   "source": [
    "# Train/val/test split\n",
    "from sklearn.model_selection import train_test_split\n",
    "X_train, X_test, y_train, y_test = train_test_split(X, y, test_size=0.20, random_state=42)\n",
    "X_train, X_val, y_train, y_val = train_test_split(X_train, y_train, test_size=0.20, random_state=42)"
   ]
  },
  {
   "cell_type": "markdown",
   "metadata": {},
   "source": [
    "### Some useful functions"
   ]
  },
  {
   "cell_type": "code",
   "execution_count": 10,
   "metadata": {},
   "outputs": [],
   "source": [
    "# Implement some helpful generating functions\n",
    "# Includes a temperature parameter, which we'll play with later -- this changes how conservative the predictions are\n",
    "\n",
    "def sample(preds, temperature = 1.0):\n",
    "    # Helper function to sample an index from a probability array\n",
    "    # Code from https://stackoverflow.com/questions/37246030/how-to-change-the-temperature-of-a-softmax-output-in-keras\n",
    "    preds = np.asarray(preds).astype('float64')\n",
    "    preds = np.array(preds)**(1/temperature)\n",
    "    probas = np.random.multinomial(1, preds / preds.sum(), 1)\n",
    "    return np.argmax(probas)\n",
    "\n",
    "def generate_from_lstm(dataX, model, num_chars = 1000, temperature = None):\n",
    "    # Pick a random seed\n",
    "    start = np.random.randint(0, len(dataX)-1)\n",
    "    pattern = dataX[start]\n",
    "    print(\"Seed:\")\n",
    "    print(\"\\\"\", ''.join([int_to_char[value] for value in pattern]), \"\\\"\")\n",
    "\n",
    "    # Generate characters\n",
    "    for i in range(num_chars):\n",
    "        x = np.reshape(pattern, (1, len(pattern), 1))\n",
    "        x = x / float(max(max(dataX)) + 1)\n",
    "        prediction = model.predict(x, verbose=0)\n",
    "        if temperature == None:\n",
    "            index = np.argmax(prediction)\n",
    "        else:\n",
    "            index = sample(prediction[0], temperature = temperature)\n",
    "        result = int_to_char[index]\n",
    "        seq_in = [int_to_char[value] for value in pattern]\n",
    "        sys.stdout.write(result)\n",
    "        pattern.append(index)\n",
    "        pattern = pattern[1:len(pattern)]\n",
    "    print(\"\\nDone.\")\n",
    "    \n",
    "def generate_with_ensemble(dataX, models, num_chars = 1000, temperature = None):\n",
    "    # Takes in a list of models rather than just one!\n",
    "    \n",
    "    # Pick a random seed\n",
    "    start = np.random.randint(0, len(dataX)-1)\n",
    "    pattern = dataX[start]\n",
    "    vocab_size = max(max(dataX)) + 1\n",
    "    print(\"Seed:\")\n",
    "    print(\"\\\"\", ''.join([int_to_char[value] for value in pattern]), \"\\\"\")\n",
    "\n",
    "    # Generate characters\n",
    "    for i in range(num_chars):\n",
    "        x = np.reshape(pattern, (1, len(pattern), 1))\n",
    "        x = x / float(vocab_size)\n",
    "        \n",
    "        # Predict with each model in an ensemble; average the predictions\n",
    "        predictions = np.zeros((len(models), vocab_size))\n",
    "        c = 0\n",
    "        for model in models:\n",
    "            predictions[c, :] = model.predict(x, verbose=0)\n",
    "            c += 1\n",
    "        prediction = np.mean(predictions, axis = 0)\n",
    "        prediction = prediction / sum(prediction) # Make sure the probabilities sum to 1\n",
    "        \n",
    "        if temperature == None:\n",
    "            index = np.argmax(prediction)\n",
    "        else:\n",
    "            index = sample(prediction, temperature = temperature)\n",
    "        result = int_to_char[index]\n",
    "        seq_in = [int_to_char[value] for value in pattern]\n",
    "        sys.stdout.write(result)\n",
    "        pattern.append(index)\n",
    "        pattern = pattern[1:len(pattern)]\n",
    "    print(\"\\nDone.\")"
   ]
  },
  {
   "cell_type": "markdown",
   "metadata": {},
   "source": [
    "### Fit a 1-layer LSTM"
   ]
  },
  {
   "cell_type": "code",
   "execution_count": 13,
   "metadata": {},
   "outputs": [],
   "source": [
    "# Define the LSTM model\n",
    "model = Sequential()\n",
    "model.add(LSTM(256, input_shape=(X.shape[1], X.shape[2])))\n",
    "model.add(Dropout(0.2))\n",
    "model.add(Dense(y.shape[1], activation='softmax'))\n",
    "model.compile(loss='categorical_crossentropy', optimizer='adam')\n",
    "\n",
    "# Define the checkpoint\n",
    "filepath=\"char_keras_checkpoints/weights-improvement-{epoch:02d}-{loss:.4f}-1layer-val.hdf5\"\n",
    "checkpoint = ModelCheckpoint(filepath, monitor='loss', verbose=1, save_best_only=True, mode='min')\n",
    "callbacks_list = [checkpoint]"
   ]
  },
  {
   "cell_type": "code",
   "execution_count": 14,
   "metadata": {
    "scrolled": true
   },
   "outputs": [
    {
     "name": "stdout",
     "output_type": "stream",
     "text": [
      "Train on 223924 samples, validate on 55981 samples\n",
      "Epoch 1/20\n",
      "223924/223924 [==============================] - 1229s 5ms/step - loss: 2.8955 - val_loss: 2.7759\n",
      "\n",
      "Epoch 00001: loss improved from inf to 2.89555, saving model to char_keras_checkpoints/weights-improvement-01-2.8955-1layer-val.hdf5\n",
      "Epoch 2/20\n",
      "223924/223924 [==============================] - 1432s 6ms/step - loss: 2.7348 - val_loss: 2.6572\n",
      "\n",
      "Epoch 00002: loss improved from 2.89555 to 2.73483, saving model to char_keras_checkpoints/weights-improvement-02-2.7348-1layer-val.hdf5\n",
      "Epoch 3/20\n",
      "223924/223924 [==============================] - 9358s 42ms/step - loss: 2.6048 - val_loss: 2.5125\n",
      "\n",
      "Epoch 00003: loss improved from 2.73483 to 2.60479, saving model to char_keras_checkpoints/weights-improvement-03-2.6048-1layer-val.hdf5\n",
      "Epoch 4/20\n",
      "223924/223924 [==============================] - 978s 4ms/step - loss: 2.4632 - val_loss: 2.3771\n",
      "\n",
      "Epoch 00004: loss improved from 2.60479 to 2.46323, saving model to char_keras_checkpoints/weights-improvement-04-2.4632-1layer-val.hdf5\n",
      "Epoch 5/20\n",
      "223924/223924 [==============================] - 966s 4ms/step - loss: 2.3476 - val_loss: 2.2796\n",
      "\n",
      "Epoch 00005: loss improved from 2.46323 to 2.34762, saving model to char_keras_checkpoints/weights-improvement-05-2.3476-1layer-val.hdf5\n",
      "Epoch 6/20\n",
      "223924/223924 [==============================] - 965s 4ms/step - loss: 2.2604 - val_loss: 2.1976\n",
      "\n",
      "Epoch 00006: loss improved from 2.34762 to 2.26043, saving model to char_keras_checkpoints/weights-improvement-06-2.2604-1layer-val.hdf5\n",
      "Epoch 7/20\n",
      "223924/223924 [==============================] - 969s 4ms/step - loss: 2.1886 - val_loss: 2.1401\n",
      "\n",
      "Epoch 00007: loss improved from 2.26043 to 2.18856, saving model to char_keras_checkpoints/weights-improvement-07-2.1886-1layer-val.hdf5\n",
      "Epoch 8/20\n",
      "223924/223924 [==============================] - 1041s 5ms/step - loss: 2.1299 - val_loss: 2.0912\n",
      "\n",
      "Epoch 00008: loss improved from 2.18856 to 2.12995, saving model to char_keras_checkpoints/weights-improvement-08-2.1299-1layer-val.hdf5\n",
      "Epoch 9/20\n",
      "223924/223924 [==============================] - 1051s 5ms/step - loss: 2.0780 - val_loss: 2.0741\n",
      "\n",
      "Epoch 00009: loss improved from 2.12995 to 2.07805, saving model to char_keras_checkpoints/weights-improvement-09-2.0780-1layer-val.hdf5\n",
      "Epoch 10/20\n",
      "223924/223924 [==============================] - 1091s 5ms/step - loss: 2.0344 - val_loss: 2.0159\n",
      "\n",
      "Epoch 00010: loss improved from 2.07805 to 2.03441, saving model to char_keras_checkpoints/weights-improvement-10-2.0344-1layer-val.hdf5\n",
      "Epoch 11/20\n",
      "223924/223924 [==============================] - 1062s 5ms/step - loss: 1.9958 - val_loss: 1.9918\n",
      "\n",
      "Epoch 00011: loss improved from 2.03441 to 1.99585, saving model to char_keras_checkpoints/weights-improvement-11-1.9958-1layer-val.hdf5\n",
      "Epoch 12/20\n",
      "223924/223924 [==============================] - 1059s 5ms/step - loss: 1.9627 - val_loss: 1.9698\n",
      "\n",
      "Epoch 00012: loss improved from 1.99585 to 1.96265, saving model to char_keras_checkpoints/weights-improvement-12-1.9627-1layer-val.hdf5\n",
      "Epoch 13/20\n",
      "223924/223924 [==============================] - 1085s 5ms/step - loss: 1.9310 - val_loss: 1.9513\n",
      "\n",
      "Epoch 00013: loss improved from 1.96265 to 1.93100, saving model to char_keras_checkpoints/weights-improvement-13-1.9310-1layer-val.hdf5\n",
      "Epoch 14/20\n",
      "223924/223924 [==============================] - 1081s 5ms/step - loss: 1.9033 - val_loss: 1.9362\n",
      "\n",
      "Epoch 00014: loss improved from 1.93100 to 1.90334, saving model to char_keras_checkpoints/weights-improvement-14-1.9033-1layer-val.hdf5\n",
      "Epoch 15/20\n",
      "223924/223924 [==============================] - 1094s 5ms/step - loss: 1.8772 - val_loss: 1.9136\n",
      "\n",
      "Epoch 00015: loss improved from 1.90334 to 1.87722, saving model to char_keras_checkpoints/weights-improvement-15-1.8772-1layer-val.hdf5\n",
      "Epoch 16/20\n",
      "223924/223924 [==============================] - 1032s 5ms/step - loss: 1.8537 - val_loss: 1.9121\n",
      "\n",
      "Epoch 00016: loss improved from 1.87722 to 1.85368, saving model to char_keras_checkpoints/weights-improvement-16-1.8537-1layer-val.hdf5\n",
      "Epoch 17/20\n",
      "223924/223924 [==============================] - 1000s 4ms/step - loss: 1.8332 - val_loss: 1.8985\n",
      "\n",
      "Epoch 00017: loss improved from 1.85368 to 1.83315, saving model to char_keras_checkpoints/weights-improvement-17-1.8332-1layer-val.hdf5\n",
      "Epoch 18/20\n",
      "223924/223924 [==============================] - 1009s 5ms/step - loss: 1.8142 - val_loss: 1.8843\n",
      "\n",
      "Epoch 00018: loss improved from 1.83315 to 1.81419, saving model to char_keras_checkpoints/weights-improvement-18-1.8142-1layer-val.hdf5\n",
      "Epoch 19/20\n",
      "223924/223924 [==============================] - 1032s 5ms/step - loss: 1.7944 - val_loss: 1.8663\n",
      "\n",
      "Epoch 00019: loss improved from 1.81419 to 1.79440, saving model to char_keras_checkpoints/weights-improvement-19-1.7944-1layer-val.hdf5\n",
      "Epoch 20/20\n",
      "223924/223924 [==============================] - 1031s 5ms/step - loss: 1.7769 - val_loss: 1.8695\n",
      "\n",
      "Epoch 00020: loss improved from 1.79440 to 1.77690, saving model to char_keras_checkpoints/weights-improvement-20-1.7769-1layer-val.hdf5\n"
     ]
    }
   ],
   "source": [
    "# Fit\n",
    "history = model.fit(X_train, y_train, validation_data = (X_val, y_val), epochs=20, batch_size=128, callbacks=callbacks_list)"
   ]
  },
  {
   "cell_type": "code",
   "execution_count": 30,
   "metadata": {},
   "outputs": [
    {
     "name": "stdout",
     "output_type": "stream",
     "text": [
      "Seed:\n",
      "\" e in the sense that the professor is super enthusiastic and the tfs too. however, it is really tough \"\n",
      " and ie you rake thes coass  bnt it is a freat class  but it is a soetty oore alass to the class is a great class ant ie you rake thes coass the meserial is analles and the mott anezing class i ve tak\n",
      "Done.\n"
     ]
    }
   ],
   "source": [
    "# Load the network weights\n",
    "filename = \"char_keras_checkpoints/weights-improvement-20-1.7769-1layer-val.hdf5\"\n",
    "model.load_weights(filename)\n",
    "model.compile(loss='categorical_crossentropy', optimizer='adam')\n",
    "\n",
    "generate_from_lstm(dataX, model, num_chars = 200)"
   ]
  },
  {
   "cell_type": "code",
   "execution_count": 102,
   "metadata": {},
   "outputs": [
    {
     "data": {
      "image/png": "[encoded data removed]",
      "text/plain": [
       "<matplotlib.figure.Figure at 0x17b1abc4d68>"
      ]
     },
     "metadata": {},
     "output_type": "display_data"
    }
   ],
   "source": [
    "# summarize history for loss\n",
    "plt.plot(history.history['loss'])\n",
    "plt.plot(history.history['val_loss'])\n",
    "# plt.title('1-layer LSTM, 256 hidden units')\n",
    "plt.ylabel('Loss')\n",
    "plt.xlabel('Epoch')\n",
    "plt.ylim([1,3])\n",
    "plt.legend(['Train', 'Validation'], loc='upper left')\n",
    "plt.show()"
   ]
  },
  {
   "cell_type": "markdown",
   "metadata": {},
   "source": [
    "### 2-layer LSTMs"
   ]
  },
  {
   "cell_type": "code",
   "execution_count": 15,
   "metadata": {},
   "outputs": [],
   "source": [
    "# Try a bigger model\n",
    "\n",
    "model1 = Sequential()\n",
    "model1.add(LSTM(256, input_shape=(X.shape[1], X.shape[2]), return_sequences=True))\n",
    "model1.add(Dropout(0.2))\n",
    "model1.add(LSTM(256))\n",
    "model1.add(Dropout(0.2))\n",
    "model1.add(Dense(y.shape[1], activation='softmax'))\n",
    "model1.compile(loss='categorical_crossentropy', optimizer='adam')\n",
    "\n",
    "filepath=\"char_keras_checkpoints/weights-improvement-{epoch:02d}-{loss:.4f}-2layers-val.hdf5\"\n",
    "checkpoint = ModelCheckpoint(filepath, monitor='loss', verbose=1, save_best_only=True, mode='min')\n",
    "callbacks_list = [checkpoint]"
   ]
  },
  {
   "cell_type": "code",
   "execution_count": 16,
   "metadata": {},
   "outputs": [
    {
     "name": "stdout",
     "output_type": "stream",
     "text": [
      "Train on 223924 samples, validate on 55981 samples\n",
      "Epoch 1/20\n",
      "223924/223924 [==============================] - 3272s 15ms/step - loss: 2.8297 - val_loss: 2.6071\n",
      "\n",
      "Epoch 00001: loss improved from inf to 2.82974, saving model to char_keras_checkpoints/weights-improvement-01-2.8297-2layers-val.hdf5\n",
      "Epoch 2/20\n",
      "223924/223924 [==============================] - 3175s 14ms/step - loss: 2.4505 - val_loss: 2.2248\n",
      "\n",
      "Epoch 00002: loss improved from 2.82974 to 2.45045, saving model to char_keras_checkpoints/weights-improvement-02-2.4505-2layers-val.hdf5\n",
      "Epoch 3/20\n",
      "223924/223924 [==============================] - 3007s 13ms/step - loss: 2.1513 - val_loss: 1.9688\n",
      "\n",
      "Epoch 00003: loss improved from 2.45045 to 2.15133, saving model to char_keras_checkpoints/weights-improvement-03-2.1513-2layers-val.hdf5\n",
      "Epoch 4/20\n",
      "223924/223924 [==============================] - 2994s 13ms/step - loss: 1.9715 - val_loss: 1.8358\n",
      "\n",
      "Epoch 00004: loss improved from 2.15133 to 1.97151, saving model to char_keras_checkpoints/weights-improvement-04-1.9715-2layers-val.hdf5\n",
      "Epoch 5/20\n",
      "223924/223924 [==============================] - 2964s 13ms/step - loss: 1.8561 - val_loss: 1.7594\n",
      "\n",
      "Epoch 00005: loss improved from 1.97151 to 1.85609, saving model to char_keras_checkpoints/weights-improvement-05-1.8561-2layers-val.hdf5\n",
      "Epoch 6/20\n",
      "223924/223924 [==============================] - 2949s 13ms/step - loss: 1.7739 - val_loss: 1.6697\n",
      "\n",
      "Epoch 00006: loss improved from 1.85609 to 1.77392, saving model to char_keras_checkpoints/weights-improvement-06-1.7739-2layers-val.hdf5\n",
      "Epoch 7/20\n",
      "223924/223924 [==============================] - 2943s 13ms/step - loss: 1.7100 - val_loss: 1.6179\n",
      "\n",
      "Epoch 00007: loss improved from 1.77392 to 1.71003, saving model to char_keras_checkpoints/weights-improvement-07-1.7100-2layers-val.hdf5\n",
      "Epoch 8/20\n",
      "223924/223924 [==============================] - 2999s 13ms/step - loss: 1.6602 - val_loss: 1.5819\n",
      "\n",
      "Epoch 00008: loss improved from 1.71003 to 1.66018, saving model to char_keras_checkpoints/weights-improvement-08-1.6602-2layers-val.hdf5\n",
      "Epoch 9/20\n",
      "223924/223924 [==============================] - 3071s 14ms/step - loss: 1.6211 - val_loss: 1.5502\n",
      "\n",
      "Epoch 00009: loss improved from 1.66018 to 1.62105, saving model to char_keras_checkpoints/weights-improvement-09-1.6211-2layers-val.hdf5\n",
      "Epoch 10/20\n",
      "223924/223924 [==============================] - 6064s 27ms/step - loss: 1.5820 - val_loss: 1.5161\n",
      "\n",
      "Epoch 00010: loss improved from 1.62105 to 1.58199, saving model to char_keras_checkpoints/weights-improvement-10-1.5820-2layers-val.hdf5\n",
      "Epoch 11/20\n",
      "223924/223924 [==============================] - 3913s 17ms/step - loss: 1.5497 - val_loss: 1.4912\n",
      "\n",
      "Epoch 00011: loss improved from 1.58199 to 1.54969, saving model to char_keras_checkpoints/weights-improvement-11-1.5497-2layers-val.hdf5\n",
      "Epoch 12/20\n",
      "223924/223924 [==============================] - 4066s 18ms/step - loss: 1.5231 - val_loss: 1.4941\n",
      "\n",
      "Epoch 00012: loss improved from 1.54969 to 1.52308, saving model to char_keras_checkpoints/weights-improvement-12-1.5231-2layers-val.hdf5\n",
      "Epoch 13/20\n",
      "223924/223924 [==============================] - 3118s 14ms/step - loss: 1.4988 - val_loss: 1.4727\n",
      "\n",
      "Epoch 00013: loss improved from 1.52308 to 1.49885, saving model to char_keras_checkpoints/weights-improvement-13-1.4988-2layers-val.hdf5\n",
      "Epoch 14/20\n",
      "223924/223924 [==============================] - 3170s 14ms/step - loss: 1.4762 - val_loss: 1.4403\n",
      "\n",
      "Epoch 00014: loss improved from 1.49885 to 1.47616, saving model to char_keras_checkpoints/weights-improvement-14-1.4762-2layers-val.hdf5\n",
      "Epoch 15/20\n",
      "223924/223924 [==============================] - 3142s 14ms/step - loss: 1.4584 - val_loss: 1.4486\n",
      "\n",
      "Epoch 00015: loss improved from 1.47616 to 1.45839, saving model to char_keras_checkpoints/weights-improvement-15-1.4584-2layers-val.hdf5\n",
      "Epoch 16/20\n",
      "223924/223924 [==============================] - 3282s 15ms/step - loss: 1.4391 - val_loss: 1.4154\n",
      "\n",
      "Epoch 00016: loss improved from 1.45839 to 1.43906, saving model to char_keras_checkpoints/weights-improvement-16-1.4391-2layers-val.hdf5\n",
      "Epoch 17/20\n",
      "223924/223924 [==============================] - 3322s 15ms/step - loss: 1.4247 - val_loss: 1.4639\n",
      "\n",
      "Epoch 00017: loss improved from 1.43906 to 1.42473, saving model to char_keras_checkpoints/weights-improvement-17-1.4247-2layers-val.hdf5\n",
      "Epoch 18/20\n",
      "223924/223924 [==============================] - 3168s 14ms/step - loss: 1.4061 - val_loss: 1.4005\n",
      "\n",
      "Epoch 00018: loss improved from 1.42473 to 1.40609, saving model to char_keras_checkpoints/weights-improvement-18-1.4061-2layers-val.hdf5\n",
      "Epoch 19/20\n",
      "223924/223924 [==============================] - 3208s 14ms/step - loss: 1.3911 - val_loss: 1.3997\n",
      "\n",
      "Epoch 00019: loss improved from 1.40609 to 1.39108, saving model to char_keras_checkpoints/weights-improvement-19-1.3911-2layers-val.hdf5\n",
      "Epoch 20/20\n",
      "223924/223924 [==============================] - 3524s 16ms/step - loss: 1.3806 - val_loss: 1.4084\n",
      "\n",
      "Epoch 00020: loss improved from 1.39108 to 1.38065, saving model to char_keras_checkpoints/weights-improvement-20-1.3806-2layers-val.hdf5\n"
     ]
    }
   ],
   "source": [
    "# Fit\n",
    "history1 = model1.fit(X_train, y_train, validation_data = (X_val, y_val), epochs=20, batch_size=128, callbacks=callbacks_list)"
   ]
  },
  {
   "cell_type": "code",
   "execution_count": 22,
   "metadata": {},
   "outputs": [
    {
     "name": "stdout",
     "output_type": "stream",
     "text": [
      "Seed:\n",
      "\" one has to take a really hard class to learn the basic distributions.  harvard should offer an easie \"\n",
      "r course. it is a great class. it is a great class. it is a great class. it is a great class. it is a great class. it is a great class. it is a great class. it is a great class. it is a great class. it is a great class. it is a great class. it is a great class. it is a great class. it is a great class. it is a great class. it is a great class. it is a great class. it is a great class. it is a great class. it is a great class. it is a great class. it is a great class. it is a great class. it is a\n",
      "Done.\n"
     ]
    }
   ],
   "source": [
    "# Load the network weights\n",
    "filename = \"char_keras_checkpoints/weights-improvement-20-1.3806-2layers-val.hdf5\"\n",
    "model1.load_weights(filename)\n",
    "model1.compile(loss='categorical_crossentropy', optimizer='adam')\n",
    "\n",
    "generate_from_lstm(dataX, model1, num_chars = 200)"
   ]
  },
  {
   "cell_type": "code",
   "execution_count": 100,
   "metadata": {},
   "outputs": [
    {
     "data": {
      "image/png": "[encoded data removed]",
      "text/plain": [
       "<matplotlib.figure.Figure at 0x17b1ab680b8>"
      ]
     },
     "metadata": {},
     "output_type": "display_data"
    }
   ],
   "source": [
    "plt.plot(history1.history['loss'])\n",
    "plt.plot(history1.history['val_loss'])\n",
    "# plt.title('2-layer LSTM, 256 hidden units per layer')\n",
    "plt.ylabel('Loss')\n",
    "plt.xlabel('Epoch')\n",
    "plt.ylim([1, 3])\n",
    "plt.legend(['Train', 'Validation'], loc='upper left')\n",
    "plt.show()"
   ]
  },
  {
   "cell_type": "code",
   "execution_count": 63,
   "metadata": {},
   "outputs": [
    {
     "name": "stdout",
     "output_type": "stream",
     "text": [
      "Seed:\n",
      "\" auchy distribution it has no mean.\n",
      "take this class! you will be rewarded for your time that you put  \"\n",
      "in the time and ae able to ae able to soiet lote for the course. i tecommend this class. and the material is a great class. it is a very difficult class and tection is alazing  it's a really good clas\n",
      "Done.\n"
     ]
    }
   ],
   "source": [
    "# Temperature?\n",
    "generate_from_lstm(dataX, model1, num_chars = 200, temperature = 0.3)"
   ]
  },
  {
   "cell_type": "code",
   "execution_count": 18,
   "metadata": {},
   "outputs": [],
   "source": [
    "# Bigger hidden layers? 2 layers, dim 512, and dropout 0.5\n",
    "# http://karpathy.github.io/2015/05/21/rnn-effectiveness/\n",
    "\n",
    "model3 = Sequential()\n",
    "model3.add(LSTM(512, input_shape=(X.shape[1], X.shape[2]), return_sequences=True))\n",
    "model3.add(Dropout(0.5))\n",
    "model3.add(LSTM(512))\n",
    "model3.add(Dropout(0.5))\n",
    "model3.add(Dense(y.shape[1], activation='softmax'))\n",
    "model3.compile(loss='categorical_crossentropy', optimizer='adam')\n",
    "\n",
    "filepath = \"char_keras_checkpoints/weights-improvement-{epoch:02d}-{loss:.4f}-2layers-dim512-val.hdf5\"\n",
    "checkpoint = ModelCheckpoint(filepath, monitor='loss', verbose=1, save_best_only=True, mode='min')\n",
    "callbacks_list = [checkpoint]"
   ]
  },
  {
   "cell_type": "code",
   "execution_count": 20,
   "metadata": {},
   "outputs": [
    {
     "name": "stdout",
     "output_type": "stream",
     "text": [
      "Train on 223924 samples, validate on 55981 samples\n",
      "Epoch 1/10\n",
      "223924/223924 [==============================] - 13288s 59ms/step - loss: 2.8017 - val_loss: 2.5846\n",
      "\n",
      "Epoch 00001: loss improved from inf to 2.80170, saving model to char_keras_checkpoints/weights-improvement-01-2.8017-2layers-dim512-val.hdf5\n",
      "Epoch 2/10\n",
      "223924/223924 [==============================] - 12453s 56ms/step - loss: 2.4364 - val_loss: 2.1526\n",
      "\n",
      "Epoch 00002: loss improved from 2.80170 to 2.43642, saving model to char_keras_checkpoints/weights-improvement-02-2.4364-2layers-dim512-val.hdf5\n",
      "Epoch 3/10\n",
      "223924/223924 [==============================] - 12539s 56ms/step - loss: 2.1015 - val_loss: 1.8618\n",
      "\n",
      "Epoch 00003: loss improved from 2.43642 to 2.10151, saving model to char_keras_checkpoints/weights-improvement-03-2.1015-2layers-dim512-val.hdf5\n",
      "Epoch 4/10\n",
      "223924/223924 [==============================] - 13086s 58ms/step - loss: 1.9055 - val_loss: 1.7567\n",
      "\n",
      "Epoch 00004: loss improved from 2.10151 to 1.90551, saving model to char_keras_checkpoints/weights-improvement-04-1.9055-2layers-dim512-val.hdf5\n",
      "Epoch 5/10\n",
      "223924/223924 [==============================] - 13574s 61ms/step - loss: 1.7797 - val_loss: 1.6265\n",
      "\n",
      "Epoch 00005: loss improved from 1.90551 to 1.77973, saving model to char_keras_checkpoints/weights-improvement-05-1.7797-2layers-dim512-val.hdf5\n",
      "Epoch 6/10\n",
      "223924/223924 [==============================] - 12684s 57ms/step - loss: 1.6922 - val_loss: 1.5591\n",
      "\n",
      "Epoch 00006: loss improved from 1.77973 to 1.69221, saving model to char_keras_checkpoints/weights-improvement-06-1.6922-2layers-dim512-val.hdf5\n",
      "Epoch 7/10\n",
      "223924/223924 [==============================] - 12489s 56ms/step - loss: 1.6202 - val_loss: 1.5130\n",
      "\n",
      "Epoch 00007: loss improved from 1.69221 to 1.62017, saving model to char_keras_checkpoints/weights-improvement-07-1.6202-2layers-dim512-val.hdf5\n",
      "Epoch 8/10\n",
      "223924/223924 [==============================] - 12342s 55ms/step - loss: 1.5613 - val_loss: 1.4926\n",
      "\n",
      "Epoch 00008: loss improved from 1.62017 to 1.56130, saving model to char_keras_checkpoints/weights-improvement-08-1.5613-2layers-dim512-val.hdf5\n",
      "Epoch 9/10\n",
      "223924/223924 [==============================] - 12394s 55ms/step - loss: 1.5114 - val_loss: 1.4320\n",
      "\n",
      "Epoch 00009: loss improved from 1.56130 to 1.51140, saving model to char_keras_checkpoints/weights-improvement-09-1.5114-2layers-dim512-val.hdf5\n",
      "Epoch 10/10\n",
      "223924/223924 [==============================] - 16095s 72ms/step - loss: 1.4684 - val_loss: 1.4140\n",
      "\n",
      "Epoch 00010: loss improved from 1.51140 to 1.46844, saving model to char_keras_checkpoints/weights-improvement-10-1.4684-2layers-dim512-val.hdf5\n"
     ]
    }
   ],
   "source": [
    "# Fit (only 10 epochs for the sake of time)\n",
    "history3 = model3.fit(X_train, y_train, validation_data = (X_val, y_val), epochs = 10, batch_size=128, callbacks=callbacks_list)"
   ]
  },
  {
   "cell_type": "code",
   "execution_count": 64,
   "metadata": {},
   "outputs": [
    {
     "name": "stdout",
     "output_type": "stream",
     "text": [
      "Train on 223924 samples, validate on 55981 samples\n",
      "Epoch 1/10\n",
      "223924/223924 [==============================] - 12208s 55ms/step - loss: 1.4342 - val_loss: 1.3939\n",
      "\n",
      "Epoch 00001: loss improved from 1.46844 to 1.43416, saving model to char_keras_checkpoints/weights-improvement-01-1.4342-2layers-dim512-val.hdf5\n",
      "Epoch 2/10\n",
      "223924/223924 [==============================] - 12340s 55ms/step - loss: 1.4013 - val_loss: 1.4048\n",
      "\n",
      "Epoch 00002: loss improved from 1.43416 to 1.40125, saving model to char_keras_checkpoints/weights-improvement-02-1.4013-2layers-dim512-val.hdf5\n",
      "Epoch 3/10\n",
      "223924/223924 [==============================] - 12232s 55ms/step - loss: 1.3731 - val_loss: 1.3655\n",
      "\n",
      "Epoch 00003: loss improved from 1.40125 to 1.37313, saving model to char_keras_checkpoints/weights-improvement-03-1.3731-2layers-dim512-val.hdf5\n",
      "Epoch 4/10\n",
      "223924/223924 [==============================] - 12136s 54ms/step - loss: 1.3441 - val_loss: 1.3413\n",
      "\n",
      "Epoch 00004: loss improved from 1.37313 to 1.34408, saving model to char_keras_checkpoints/weights-improvement-04-1.3441-2layers-dim512-val.hdf5\n",
      "Epoch 5/10\n",
      "223924/223924 [==============================] - 12113s 54ms/step - loss: 1.3236 - val_loss: 1.3398\n",
      "\n",
      "Epoch 00005: loss improved from 1.34408 to 1.32357, saving model to char_keras_checkpoints/weights-improvement-05-1.3236-2layers-dim512-val.hdf5\n",
      "Epoch 6/10\n",
      "223924/223924 [==============================] - 12098s 54ms/step - loss: 1.2985 - val_loss: 1.3333\n",
      "\n",
      "Epoch 00006: loss improved from 1.32357 to 1.29854, saving model to char_keras_checkpoints/weights-improvement-06-1.2985-2layers-dim512-val.hdf5\n",
      "Epoch 7/10\n",
      "223924/223924 [==============================] - 13570s 61ms/step - loss: 1.2799 - val_loss: 1.3255\n",
      "\n",
      "Epoch 00007: loss improved from 1.29854 to 1.27993, saving model to char_keras_checkpoints/weights-improvement-07-1.2799-2layers-dim512-val.hdf5\n",
      "Epoch 8/10\n",
      "223924/223924 [==============================] - 13169s 59ms/step - loss: 1.2649 - val_loss: 1.3188\n",
      "\n",
      "Epoch 00008: loss improved from 1.27993 to 1.26493, saving model to char_keras_checkpoints/weights-improvement-08-1.2649-2layers-dim512-val.hdf5\n",
      "Epoch 9/10\n",
      "223924/223924 [==============================] - 12351s 55ms/step - loss: 1.2460 - val_loss: 1.3282\n",
      "\n",
      "Epoch 00009: loss improved from 1.26493 to 1.24599, saving model to char_keras_checkpoints/weights-improvement-09-1.2460-2layers-dim512-val.hdf5\n",
      "Epoch 10/10\n",
      "223924/223924 [==============================] - 12185s 54ms/step - loss: 1.2320 - val_loss: 1.3282\n",
      "\n",
      "Epoch 00010: loss improved from 1.24599 to 1.23201, saving model to char_keras_checkpoints/weights-improvement-10-1.2320-2layers-dim512-val.hdf5\n"
     ]
    }
   ],
   "source": [
    "# Fit more\n",
    "history3_extra = model3.fit(X_train, y_train, validation_data = (X_val, y_val), epochs = 10, batch_size=128, callbacks=callbacks_list)"
   ]
  },
  {
   "cell_type": "code",
   "execution_count": 86,
   "metadata": {},
   "outputs": [
    {
     "name": "stdout",
     "output_type": "stream",
     "text": [
      "Seed:\n",
      "\" ure that you definitely have the time to devote to it in order to get the most out of the class and  \"\n",
      "the material is a great course that is a great course in the mathrial and the material is a great course that is a break and aonlict toderstanding of the material. this class is a great course. this i\n",
      "Done.\n"
     ]
    }
   ],
   "source": [
    "# Load the network weights\n",
    "filename = \"char_keras_checkpoints/weights-improvement-10-1.2320-2layers-dim512-val.hdf5\"\n",
    "model3.load_weights(filename)\n",
    "model3.compile(loss='categorical_crossentropy', optimizer='adam')\n",
    "\n",
    "generate_from_lstm(dataX, model3, num_chars = 200, temperature = 0.3)"
   ]
  },
  {
   "cell_type": "code",
   "execution_count": 75,
   "metadata": {},
   "outputs": [],
   "source": [
    "merged_loss = history3.history['loss'] + history3_extra.history['loss']\n",
    "merged_val = history3.history['val_loss'] + history3_extra.history['val_loss']"
   ]
  },
  {
   "cell_type": "code",
   "execution_count": 101,
   "metadata": {},
   "outputs": [
    {
     "data": {
      "image/png": "[encoded data removed]",
      "text/plain": [
       "<matplotlib.figure.Figure at 0x17b1ab68e48>"
      ]
     },
     "metadata": {},
     "output_type": "display_data"
    }
   ],
   "source": [
    "plt.plot(merged_loss)\n",
    "plt.plot(merged_val)\n",
    "# plt.title('2-layer character-level LSTM, 512 hidden units')\n",
    "plt.ylabel('Loss')\n",
    "plt.xlabel('Epoch')\n",
    "plt.ylim([1, 3])\n",
    "plt.legend(['Train', 'Validation'], loc='upper left')\n",
    "plt.show()"
   ]
  },
  {
   "cell_type": "code",
   "execution_count": 97,
   "metadata": {},
   "outputs": [
    {
     "name": "stdout",
     "output_type": "stream",
     "text": [
      "Seed:\n",
      "\" the quintessential course to take if you're considering a concentration or secondary in statistics.  \"\n",
      "this is a great course but ae prepared to work hard and the material is a great class. it is a great course in the course and the the homework is a great class, it is a very difficult course. it is ve\n",
      "Done.\n"
     ]
    }
   ],
   "source": [
    "# Ensemble?\n",
    "generate_with_ensemble(dataX, [model1, model3], num_chars = 200, temperature = 0.3)"
   ]
  },
  {
   "cell_type": "code",
   "execution_count": 4,
   "metadata": {},
   "outputs": [],
   "source": []
  },
  {
   "cell_type": "code",
   "execution_count": null,
   "metadata": {
    "collapsed": true
   },
   "outputs": [],
   "source": []
  }
 ],
 "metadata": {
  "kernelspec": {
   "display_name": "Python 3",
   "language": "python",
   "name": "python3"
  },
  "language_info": {
   "codemirror_mode": {
    "name": "ipython",
    "version": 3
   },
   "file_extension": ".py",
   "mimetype": "text/x-python",
   "name": "python",
   "nbconvert_exporter": "python",
   "pygments_lexer": "ipython3",
   "version": "3.6.4"
  }
 },
 "nbformat": 4,
 "nbformat_minor": 2
}
